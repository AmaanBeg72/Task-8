{
 "cells": [
  {
   "cell_type": "code",
   "execution_count": 1,
   "id": "c04a7175",
   "metadata": {},
   "outputs": [],
   "source": [
    "import pandas as pd\n",
    "import numpy as np\n",
    "import matplotlib.pyplot as plt\n",
    "%matplotlib inline\n",
    "import seaborn as sns\n",
    "import warnings\n",
    "warnings.filterwarnings('ignore')"
   ]
  },
  {
   "cell_type": "code",
   "execution_count": 2,
   "id": "a687b293",
   "metadata": {},
   "outputs": [],
   "source": [
    "df=pd.read_csv(r\"C:\\Users\\amaan\\Downloads\\seattle-weather.csv\")"
   ]
  },
  {
   "cell_type": "code",
   "execution_count": 3,
   "id": "e1374f63",
   "metadata": {},
   "outputs": [
    {
     "data": {
      "text/html": [
       "<div>\n",
       "<style scoped>\n",
       "    .dataframe tbody tr th:only-of-type {\n",
       "        vertical-align: middle;\n",
       "    }\n",
       "\n",
       "    .dataframe tbody tr th {\n",
       "        vertical-align: top;\n",
       "    }\n",
       "\n",
       "    .dataframe thead th {\n",
       "        text-align: right;\n",
       "    }\n",
       "</style>\n",
       "<table border=\"1\" class=\"dataframe\">\n",
       "  <thead>\n",
       "    <tr style=\"text-align: right;\">\n",
       "      <th></th>\n",
       "      <th>date</th>\n",
       "      <th>precipitation</th>\n",
       "      <th>temp_max</th>\n",
       "      <th>temp_min</th>\n",
       "      <th>wind</th>\n",
       "      <th>weather</th>\n",
       "    </tr>\n",
       "  </thead>\n",
       "  <tbody>\n",
       "    <tr>\n",
       "      <th>0</th>\n",
       "      <td>2012-01-01</td>\n",
       "      <td>0.0</td>\n",
       "      <td>12.8</td>\n",
       "      <td>5.0</td>\n",
       "      <td>4.7</td>\n",
       "      <td>drizzle</td>\n",
       "    </tr>\n",
       "    <tr>\n",
       "      <th>1</th>\n",
       "      <td>2012-01-02</td>\n",
       "      <td>10.9</td>\n",
       "      <td>10.6</td>\n",
       "      <td>2.8</td>\n",
       "      <td>4.5</td>\n",
       "      <td>rain</td>\n",
       "    </tr>\n",
       "    <tr>\n",
       "      <th>2</th>\n",
       "      <td>2012-01-03</td>\n",
       "      <td>0.8</td>\n",
       "      <td>11.7</td>\n",
       "      <td>7.2</td>\n",
       "      <td>2.3</td>\n",
       "      <td>rain</td>\n",
       "    </tr>\n",
       "    <tr>\n",
       "      <th>3</th>\n",
       "      <td>2012-01-04</td>\n",
       "      <td>20.3</td>\n",
       "      <td>12.2</td>\n",
       "      <td>5.6</td>\n",
       "      <td>4.7</td>\n",
       "      <td>rain</td>\n",
       "    </tr>\n",
       "    <tr>\n",
       "      <th>4</th>\n",
       "      <td>2012-01-05</td>\n",
       "      <td>1.3</td>\n",
       "      <td>8.9</td>\n",
       "      <td>2.8</td>\n",
       "      <td>6.1</td>\n",
       "      <td>rain</td>\n",
       "    </tr>\n",
       "    <tr>\n",
       "      <th>...</th>\n",
       "      <td>...</td>\n",
       "      <td>...</td>\n",
       "      <td>...</td>\n",
       "      <td>...</td>\n",
       "      <td>...</td>\n",
       "      <td>...</td>\n",
       "    </tr>\n",
       "    <tr>\n",
       "      <th>1456</th>\n",
       "      <td>2015-12-27</td>\n",
       "      <td>8.6</td>\n",
       "      <td>4.4</td>\n",
       "      <td>1.7</td>\n",
       "      <td>2.9</td>\n",
       "      <td>rain</td>\n",
       "    </tr>\n",
       "    <tr>\n",
       "      <th>1457</th>\n",
       "      <td>2015-12-28</td>\n",
       "      <td>1.5</td>\n",
       "      <td>5.0</td>\n",
       "      <td>1.7</td>\n",
       "      <td>1.3</td>\n",
       "      <td>rain</td>\n",
       "    </tr>\n",
       "    <tr>\n",
       "      <th>1458</th>\n",
       "      <td>2015-12-29</td>\n",
       "      <td>0.0</td>\n",
       "      <td>7.2</td>\n",
       "      <td>0.6</td>\n",
       "      <td>2.6</td>\n",
       "      <td>fog</td>\n",
       "    </tr>\n",
       "    <tr>\n",
       "      <th>1459</th>\n",
       "      <td>2015-12-30</td>\n",
       "      <td>0.0</td>\n",
       "      <td>5.6</td>\n",
       "      <td>-1.0</td>\n",
       "      <td>3.4</td>\n",
       "      <td>sun</td>\n",
       "    </tr>\n",
       "    <tr>\n",
       "      <th>1460</th>\n",
       "      <td>2015-12-31</td>\n",
       "      <td>0.0</td>\n",
       "      <td>5.6</td>\n",
       "      <td>-2.1</td>\n",
       "      <td>3.5</td>\n",
       "      <td>sun</td>\n",
       "    </tr>\n",
       "  </tbody>\n",
       "</table>\n",
       "<p>1461 rows × 6 columns</p>\n",
       "</div>"
      ],
      "text/plain": [
       "            date  precipitation  temp_max  temp_min  wind  weather\n",
       "0     2012-01-01            0.0      12.8       5.0   4.7  drizzle\n",
       "1     2012-01-02           10.9      10.6       2.8   4.5     rain\n",
       "2     2012-01-03            0.8      11.7       7.2   2.3     rain\n",
       "3     2012-01-04           20.3      12.2       5.6   4.7     rain\n",
       "4     2012-01-05            1.3       8.9       2.8   6.1     rain\n",
       "...          ...            ...       ...       ...   ...      ...\n",
       "1456  2015-12-27            8.6       4.4       1.7   2.9     rain\n",
       "1457  2015-12-28            1.5       5.0       1.7   1.3     rain\n",
       "1458  2015-12-29            0.0       7.2       0.6   2.6      fog\n",
       "1459  2015-12-30            0.0       5.6      -1.0   3.4      sun\n",
       "1460  2015-12-31            0.0       5.6      -2.1   3.5      sun\n",
       "\n",
       "[1461 rows x 6 columns]"
      ]
     },
     "execution_count": 3,
     "metadata": {},
     "output_type": "execute_result"
    }
   ],
   "source": [
    "df"
   ]
  },
  {
   "cell_type": "code",
   "execution_count": 4,
   "id": "603b77c5",
   "metadata": {},
   "outputs": [
    {
     "name": "stdout",
     "output_type": "stream",
     "text": [
      "<class 'pandas.core.frame.DataFrame'>\n",
      "RangeIndex: 1461 entries, 0 to 1460\n",
      "Data columns (total 6 columns):\n",
      " #   Column         Non-Null Count  Dtype  \n",
      "---  ------         --------------  -----  \n",
      " 0   date           1461 non-null   object \n",
      " 1   precipitation  1461 non-null   float64\n",
      " 2   temp_max       1461 non-null   float64\n",
      " 3   temp_min       1461 non-null   float64\n",
      " 4   wind           1461 non-null   float64\n",
      " 5   weather        1461 non-null   object \n",
      "dtypes: float64(4), object(2)\n",
      "memory usage: 68.6+ KB\n"
     ]
    }
   ],
   "source": [
    "df.info()"
   ]
  },
  {
   "cell_type": "code",
   "execution_count": 5,
   "id": "32205749",
   "metadata": {},
   "outputs": [
    {
     "data": {
      "text/plain": [
       "(1461, 6)"
      ]
     },
     "execution_count": 5,
     "metadata": {},
     "output_type": "execute_result"
    }
   ],
   "source": [
    "df.shape"
   ]
  },
  {
   "cell_type": "code",
   "execution_count": 6,
   "id": "13a09b00",
   "metadata": {},
   "outputs": [
    {
     "data": {
      "text/plain": [
       "date             0\n",
       "precipitation    0\n",
       "temp_max         0\n",
       "temp_min         0\n",
       "wind             0\n",
       "weather          0\n",
       "dtype: int64"
      ]
     },
     "execution_count": 6,
     "metadata": {},
     "output_type": "execute_result"
    }
   ],
   "source": [
    "df.isnull().sum()\n",
    "#there is no null value in our data set"
   ]
  },
  {
   "cell_type": "code",
   "execution_count": 7,
   "id": "ccfa7540",
   "metadata": {},
   "outputs": [
    {
     "data": {
      "text/plain": [
       "date             1461\n",
       "precipitation    1461\n",
       "temp_max         1461\n",
       "temp_min         1461\n",
       "wind             1461\n",
       "weather          1461\n",
       "dtype: int64"
      ]
     },
     "execution_count": 7,
     "metadata": {},
     "output_type": "execute_result"
    }
   ],
   "source": [
    "df.count()"
   ]
  },
  {
   "cell_type": "code",
   "execution_count": 8,
   "id": "779aefaa",
   "metadata": {},
   "outputs": [
    {
     "data": {
      "text/plain": [
       "rain       641\n",
       "sun        640\n",
       "fog        101\n",
       "drizzle     53\n",
       "snow        26\n",
       "Name: weather, dtype: int64"
      ]
     },
     "execution_count": 8,
     "metadata": {},
     "output_type": "execute_result"
    }
   ],
   "source": [
    "df['weather'].value_counts()"
   ]
  },
  {
   "cell_type": "code",
   "execution_count": 9,
   "id": "4ffc1209",
   "metadata": {},
   "outputs": [
    {
     "data": {
      "text/plain": [
       "array([[<AxesSubplot:title={'center':'precipitation'}>,\n",
       "        <AxesSubplot:title={'center':'temp_max'}>],\n",
       "       [<AxesSubplot:title={'center':'temp_min'}>,\n",
       "        <AxesSubplot:title={'center':'wind'}>]], dtype=object)"
      ]
     },
     "execution_count": 9,
     "metadata": {},
     "output_type": "execute_result"
    },
    {
     "data": {
      "image/png": "[encoded data removed]",
      "text/plain": [
       "<Figure size 1500x1500 with 4 Axes>"
      ]
     },
     "metadata": {},
     "output_type": "display_data"
    }
   ],
   "source": [
    "# visualizing data set\n",
    "df.hist(bins=50, figsize=(15,15))"
   ]
  },
  {
   "cell_type": "code",
   "execution_count": 10,
   "id": "435626d8",
   "metadata": {},
   "outputs": [
    {
     "data": {
      "image/png": "[encoded data removed]",
      "text/plain": [
       "<Figure size 1000x700 with 1 Axes>"
      ]
     },
     "metadata": {},
     "output_type": "display_data"
    }
   ],
   "source": [
    "plt.figure(figsize=(10,7))\n",
    "plt.title('Weather Prediction')\n",
    "sns.histplot(x='wind',hue='weather',data=df, )\n",
    "plt.show()"
   ]
  },
  {
   "cell_type": "code",
   "execution_count": 11,
   "id": "ff9e7bc1",
   "metadata": {},
   "outputs": [],
   "source": [
    "# dividing data into train and test to make prediction\n",
    "x = df[['precipitation','temp_max','temp_min','wind']]\n",
    "y = df['weather']\n",
    "# x is features and y is target"
   ]
  },
  {
   "cell_type": "code",
   "execution_count": 12,
   "id": "18ba3b81",
   "metadata": {},
   "outputs": [],
   "source": [
    "#Train and test the data\n",
    "from sklearn.model_selection import train_test_split\n",
    "from sklearn.neighbors import KNeighborsClassifier\n",
    "\n",
    "x_train, x_test, y_train, y_test = train_test_split(x,y, test_size=0.30, random_state=42)"
   ]
  },
  {
   "cell_type": "code",
   "execution_count": 13,
   "id": "9baadca8",
   "metadata": {},
   "outputs": [
    {
     "data": {
      "text/plain": [
       "0.7585421412300684"
      ]
     },
     "execution_count": 13,
     "metadata": {},
     "output_type": "execute_result"
    }
   ],
   "source": [
    "# Using K-Neighbors\n",
    "knn=KNeighborsClassifier()\n",
    "knn.fit(x_train,y_train)\n",
    "knn.score(x_test,y_test)"
   ]
  },
  {
   "cell_type": "code",
   "execution_count": 14,
   "id": "eca13cc0",
   "metadata": {},
   "outputs": [
    {
     "data": {
      "text/plain": [
       "array(['sun', 'rain', 'rain', 'sun', 'rain', 'rain', 'sun', 'fog', 'rain',\n",
       "       'sun', 'sun', 'sun', 'rain', 'sun', 'sun', 'rain', 'sun', 'rain',\n",
       "       'sun', 'sun', 'rain', 'sun', 'rain', 'sun', 'sun', 'rain', 'sun',\n",
       "       'sun', 'sun', 'sun', 'rain', 'sun', 'fog', 'rain', 'sun', 'rain',\n",
       "       'rain', 'rain', 'rain', 'sun', 'rain', 'sun', 'fog', 'sun', 'rain',\n",
       "       'rain', 'rain', 'fog', 'sun', 'sun', 'sun', 'rain', 'sun', 'rain',\n",
       "       'sun', 'rain', 'rain', 'sun', 'rain', 'sun', 'rain', 'sun', 'fog',\n",
       "       'sun', 'sun', 'sun', 'rain', 'sun', 'rain', 'rain', 'rain', 'sun',\n",
       "       'sun', 'sun', 'rain', 'rain', 'sun', 'sun', 'rain', 'sun', 'rain',\n",
       "       'fog', 'rain', 'sun', 'rain', 'sun', 'sun', 'rain', 'sun', 'rain',\n",
       "       'rain', 'sun', 'sun', 'rain', 'rain', 'sun', 'rain', 'sun', 'sun',\n",
       "       'rain', 'sun', 'sun', 'rain', 'sun', 'rain', 'sun', 'sun', 'rain',\n",
       "       'fog', 'rain', 'rain', 'fog', 'rain', 'rain', 'sun', 'drizzle',\n",
       "       'fog', 'rain', 'rain', 'rain', 'rain', 'rain', 'rain', 'rain',\n",
       "       'rain', 'sun', 'rain', 'sun', 'sun', 'sun', 'sun', 'sun', 'sun',\n",
       "       'drizzle', 'sun', 'sun', 'rain', 'rain', 'rain', 'sun', 'sun',\n",
       "       'sun', 'rain', 'rain', 'rain', 'fog', 'sun', 'rain', 'sun', 'fog',\n",
       "       'fog', 'sun', 'fog', 'sun', 'rain', 'rain', 'sun', 'sun', 'sun',\n",
       "       'rain', 'sun', 'sun', 'rain', 'sun', 'sun', 'rain', 'rain', 'fog',\n",
       "       'sun', 'sun', 'rain', 'rain', 'drizzle', 'sun', 'rain', 'rain',\n",
       "       'sun', 'sun', 'sun', 'rain', 'rain', 'sun', 'sun', 'rain', 'rain',\n",
       "       'rain', 'rain', 'rain', 'sun', 'sun', 'sun', 'sun', 'sun', 'rain',\n",
       "       'sun', 'sun', 'rain', 'rain', 'sun', 'rain', 'sun', 'sun',\n",
       "       'drizzle', 'rain', 'sun', 'sun', 'rain', 'sun', 'rain', 'sun',\n",
       "       'rain', 'sun', 'sun', 'sun', 'sun', 'sun', 'sun', 'sun', 'rain',\n",
       "       'sun', 'rain', 'sun', 'sun', 'sun', 'fog', 'rain', 'sun', 'rain',\n",
       "       'sun', 'rain', 'sun', 'rain', 'sun', 'sun', 'rain', 'sun', 'sun',\n",
       "       'rain', 'sun', 'sun', 'rain', 'rain', 'sun', 'snow', 'sun', 'sun',\n",
       "       'sun', 'sun', 'rain', 'rain', 'rain', 'rain', 'rain', 'sun', 'sun',\n",
       "       'sun', 'rain', 'sun', 'rain', 'rain', 'rain', 'rain', 'sun',\n",
       "       'rain', 'sun', 'fog', 'rain', 'sun', 'sun', 'sun', 'sun', 'sun',\n",
       "       'sun', 'rain', 'sun', 'sun', 'rain', 'rain', 'sun', 'sun', 'sun',\n",
       "       'rain', 'sun', 'rain', 'sun', 'sun', 'rain', 'sun', 'sun', 'rain',\n",
       "       'sun', 'rain', 'sun', 'sun', 'rain', 'rain', 'fog', 'rain', 'rain',\n",
       "       'rain', 'sun', 'rain', 'rain', 'rain', 'rain', 'rain', 'rain',\n",
       "       'sun', 'rain', 'sun', 'rain', 'rain', 'rain', 'sun', 'rain', 'sun',\n",
       "       'sun', 'rain', 'sun', 'sun', 'rain', 'rain', 'rain', 'rain', 'sun',\n",
       "       'rain', 'drizzle', 'sun', 'sun', 'fog', 'sun', 'rain', 'rain',\n",
       "       'sun', 'sun', 'sun', 'sun', 'rain', 'rain', 'rain', 'rain', 'sun',\n",
       "       'fog', 'rain', 'rain', 'rain', 'sun', 'sun', 'rain', 'rain', 'sun',\n",
       "       'sun', 'sun', 'rain', 'sun', 'rain', 'sun', 'sun', 'sun', 'sun',\n",
       "       'sun', 'sun', 'sun', 'rain', 'rain', 'rain', 'fog', 'sun', 'sun',\n",
       "       'sun', 'rain', 'rain', 'rain', 'sun', 'rain', 'sun', 'rain',\n",
       "       'rain', 'rain', 'sun', 'sun', 'fog', 'sun', 'sun', 'rain', 'rain',\n",
       "       'sun', 'sun', 'sun', 'rain', 'rain', 'sun', 'sun', 'sun', 'rain',\n",
       "       'sun', 'sun', 'rain', 'sun', 'sun', 'rain', 'sun', 'sun', 'sun',\n",
       "       'fog', 'rain', 'sun', 'sun', 'sun', 'sun', 'sun', 'sun', 'sun',\n",
       "       'drizzle', 'sun', 'sun', 'rain', 'rain', 'rain', 'sun', 'sun',\n",
       "       'sun', 'fog', 'sun', 'sun', 'rain', 'rain', 'drizzle', 'rain',\n",
       "       'sun', 'rain', 'rain', 'sun', 'sun', 'rain', 'rain', 'rain',\n",
       "       'rain', 'sun'], dtype=object)"
      ]
     },
     "execution_count": 14,
     "metadata": {},
     "output_type": "execute_result"
    }
   ],
   "source": [
    "#predicting the wheather\n",
    "ypred=knn.predict(x_test)\n",
    "ypred"
   ]
  },
  {
   "cell_type": "code",
   "execution_count": 15,
   "id": "cf199cee",
   "metadata": {},
   "outputs": [
    {
     "name": "stdout",
     "output_type": "stream",
     "text": [
      "              precision    recall  f1-score   support\n",
      "\n",
      "     drizzle       0.07      0.14      0.10         7\n",
      "         fog       0.12      0.17      0.15        23\n",
      "        rain       0.86      0.89      0.88       187\n",
      "        snow       0.12      1.00      0.22         1\n",
      "         sun       0.83      0.73      0.78       221\n",
      "\n",
      "    accuracy                           0.76       439\n",
      "   macro avg       0.40      0.59      0.42       439\n",
      "weighted avg       0.80      0.76      0.77       439\n",
      "\n"
     ]
    }
   ],
   "source": [
    "from sklearn.metrics import classification_report\n",
    "print(classification_report(ypred,y_test))"
   ]
  },
  {
   "cell_type": "code",
   "execution_count": 17,
   "id": "ddfc44b4",
   "metadata": {},
   "outputs": [
    {
     "data": {
      "text/plain": [
       "0.7722095671981777"
      ]
     },
     "execution_count": 17,
     "metadata": {},
     "output_type": "execute_result"
    }
   ],
   "source": [
    "# SVM Classification \n",
    "from sklearn.svm import SVC\n",
    "svm=SVC()\n",
    "svm.fit(x_train,y_train)\n",
    "svm.score(x_test,y_test)"
   ]
  },
  {
   "cell_type": "code",
   "execution_count": 20,
   "id": "cff8406e",
   "metadata": {},
   "outputs": [
    {
     "data": {
      "text/plain": [
       "array(['sun', 'rain', 'rain', 'sun', 'rain', 'rain', 'sun', 'sun', 'rain',\n",
       "       'sun', 'sun', 'sun', 'rain', 'sun', 'sun', 'rain', 'sun', 'rain',\n",
       "       'sun', 'sun', 'rain', 'sun', 'rain', 'sun', 'sun', 'rain', 'sun',\n",
       "       'sun', 'sun', 'sun', 'rain', 'sun', 'sun', 'rain', 'sun', 'rain',\n",
       "       'rain', 'rain', 'sun', 'sun', 'rain', 'sun', 'sun', 'sun', 'rain',\n",
       "       'rain', 'rain', 'rain', 'sun', 'sun', 'sun', 'rain', 'sun', 'rain',\n",
       "       'sun', 'rain', 'rain', 'sun', 'rain', 'sun', 'rain', 'sun', 'sun',\n",
       "       'sun', 'sun', 'sun', 'rain', 'sun', 'rain', 'rain', 'rain', 'sun',\n",
       "       'sun', 'sun', 'rain', 'sun', 'sun', 'sun', 'rain', 'rain', 'rain',\n",
       "       'rain', 'rain', 'sun', 'rain', 'sun', 'sun', 'rain', 'sun', 'rain',\n",
       "       'rain', 'sun', 'sun', 'rain', 'rain', 'sun', 'sun', 'sun', 'sun',\n",
       "       'rain', 'sun', 'sun', 'rain', 'rain', 'sun', 'sun', 'sun', 'rain',\n",
       "       'sun', 'rain', 'rain', 'sun', 'rain', 'rain', 'sun', 'sun', 'sun',\n",
       "       'sun', 'sun', 'rain', 'rain', 'sun', 'rain', 'rain', 'rain', 'sun',\n",
       "       'rain', 'sun', 'sun', 'sun', 'sun', 'sun', 'sun', 'sun', 'sun',\n",
       "       'sun', 'rain', 'rain', 'rain', 'sun', 'sun', 'sun', 'rain', 'rain',\n",
       "       'sun', 'sun', 'sun', 'rain', 'sun', 'sun', 'rain', 'sun', 'sun',\n",
       "       'sun', 'rain', 'rain', 'sun', 'sun', 'sun', 'rain', 'sun', 'sun',\n",
       "       'rain', 'sun', 'sun', 'rain', 'rain', 'sun', 'sun', 'sun', 'rain',\n",
       "       'sun', 'sun', 'sun', 'rain', 'rain', 'sun', 'sun', 'sun', 'rain',\n",
       "       'sun', 'sun', 'sun', 'rain', 'rain', 'rain', 'rain', 'rain', 'sun',\n",
       "       'sun', 'sun', 'sun', 'sun', 'rain', 'sun', 'sun', 'sun', 'rain',\n",
       "       'sun', 'rain', 'sun', 'sun', 'sun', 'rain', 'sun', 'sun', 'rain',\n",
       "       'sun', 'rain', 'sun', 'rain', 'sun', 'sun', 'sun', 'sun', 'sun',\n",
       "       'sun', 'sun', 'rain', 'sun', 'rain', 'sun', 'sun', 'sun', 'sun',\n",
       "       'rain', 'sun', 'rain', 'sun', 'rain', 'sun', 'rain', 'sun', 'sun',\n",
       "       'sun', 'sun', 'sun', 'rain', 'sun', 'sun', 'rain', 'rain', 'sun',\n",
       "       'rain', 'sun', 'sun', 'sun', 'sun', 'rain', 'rain', 'rain', 'rain',\n",
       "       'rain', 'sun', 'sun', 'sun', 'rain', 'sun', 'rain', 'rain', 'rain',\n",
       "       'sun', 'sun', 'sun', 'sun', 'sun', 'rain', 'sun', 'sun', 'sun',\n",
       "       'sun', 'rain', 'sun', 'rain', 'sun', 'sun', 'rain', 'rain', 'sun',\n",
       "       'sun', 'sun', 'rain', 'sun', 'sun', 'sun', 'sun', 'rain', 'sun',\n",
       "       'sun', 'sun', 'sun', 'rain', 'sun', 'sun', 'rain', 'rain', 'sun',\n",
       "       'rain', 'rain', 'sun', 'sun', 'rain', 'rain', 'sun', 'rain',\n",
       "       'rain', 'rain', 'sun', 'sun', 'sun', 'rain', 'rain', 'rain', 'sun',\n",
       "       'rain', 'sun', 'sun', 'rain', 'sun', 'rain', 'rain', 'rain',\n",
       "       'rain', 'sun', 'sun', 'rain', 'sun', 'sun', 'sun', 'sun', 'sun',\n",
       "       'rain', 'rain', 'rain', 'sun', 'sun', 'sun', 'rain', 'rain', 'sun',\n",
       "       'rain', 'sun', 'sun', 'rain', 'rain', 'rain', 'sun', 'sun', 'rain',\n",
       "       'rain', 'sun', 'sun', 'sun', 'rain', 'sun', 'rain', 'sun', 'sun',\n",
       "       'sun', 'rain', 'sun', 'sun', 'sun', 'rain', 'rain', 'rain', 'sun',\n",
       "       'sun', 'sun', 'sun', 'rain', 'rain', 'rain', 'sun', 'rain', 'sun',\n",
       "       'rain', 'rain', 'rain', 'sun', 'sun', 'sun', 'sun', 'sun', 'sun',\n",
       "       'rain', 'sun', 'sun', 'sun', 'rain', 'rain', 'sun', 'sun', 'sun',\n",
       "       'rain', 'sun', 'sun', 'sun', 'sun', 'sun', 'rain', 'sun', 'sun',\n",
       "       'sun', 'sun', 'rain', 'sun', 'sun', 'sun', 'sun', 'sun', 'sun',\n",
       "       'sun', 'sun', 'sun', 'rain', 'rain', 'rain', 'sun', 'sun', 'sun',\n",
       "       'sun', 'sun', 'sun', 'sun', 'rain', 'sun', 'sun', 'rain', 'sun',\n",
       "       'rain', 'sun', 'sun', 'sun', 'rain', 'rain', 'sun', 'rain', 'sun'],\n",
       "      dtype=object)"
      ]
     },
     "execution_count": 20,
     "metadata": {},
     "output_type": "execute_result"
    }
   ],
   "source": [
    "#predicting the wheather\n",
    "ypred=svm.predict(x_test)\n",
    "ypred"
   ]
  },
  {
   "cell_type": "code",
   "execution_count": 21,
   "id": "624b7957",
   "metadata": {},
   "outputs": [
    {
     "name": "stdout",
     "output_type": "stream",
     "text": [
      "              precision    recall  f1-score   support\n",
      "\n",
      "     drizzle       0.00      0.00      0.00         0\n",
      "         fog       0.00      0.00      0.00         0\n",
      "        rain       0.80      0.90      0.85       171\n",
      "        snow       0.00      0.00      0.00         0\n",
      "         sun       0.96      0.69      0.80       268\n",
      "\n",
      "    accuracy                           0.77       439\n",
      "   macro avg       0.35      0.32      0.33       439\n",
      "weighted avg       0.90      0.77      0.82       439\n",
      "\n"
     ]
    }
   ],
   "source": [
    "print(classification_report(ypred,y_test))"
   ]
  },
  {
   "cell_type": "code",
   "execution_count": 26,
   "id": "cf3dcdc2",
   "metadata": {},
   "outputs": [
    {
     "name": "stdout",
     "output_type": "stream",
     "text": [
      "The weather Would be: Sun\n"
     ]
    }
   ],
   "source": [
    "# Take a input and make prediction.\n",
    "input=[[20.5,12.8,5,4.7]]\n",
    "ot=svm.predict(input)\n",
    "print(\"The weather Would be:\" ,end=\" \")\n",
    "if(ot==0):\n",
    "  print('Drizzle')\n",
    "elif (ot==1):\n",
    "  print('Fogg')\n",
    "elif (ot==2):\n",
    "  print('Rain')\n",
    "elif (ot==3):\n",
    "  print('Snow')\n",
    "else:\n",
    "  print('Sun')\n"
   ]
  }
 ],
 "metadata": {
  "kernelspec": {
   "display_name": "Python 3 (ipykernel)",
   "language": "python",
   "name": "python3"
  },
  "language_info": {
   "codemirror_mode": {
    "name": "ipython",
    "version": 3
   },
   "file_extension": ".py",
   "mimetype": "text/x-python",
   "name": "python",
   "nbconvert_exporter": "python",
   "pygments_lexer": "ipython3",
   "version": "3.9.13"
  }
 },
 "nbformat": 4,
 "nbformat_minor": 5
}
